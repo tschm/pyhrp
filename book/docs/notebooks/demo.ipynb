{
 "cells": [
  {
   "cell_type": "markdown",
   "id": "8952ea7d-f4f1-416b-8934-8bf7af646b65",
   "metadata": {},
   "source": [
    "# Demo pyhrp"
   ]
  },
  {
   "cell_type": "code",
   "execution_count": 2,
   "id": "e340f27b-0996-4d7d-8cbf-419571519c6f",
   "metadata": {},
   "outputs": [
    {
     "data": {
      "text/plain": [
       "3"
      ]
     },
     "execution_count": 2,
     "metadata": {},
     "output_type": "execute_result"
    }
   ],
   "source": [
    "1 + 2"
   ]
  },
  {
   "cell_type": "code",
   "execution_count": null,
   "id": "85129dfa-b82e-4570-aa70-2dc4b7938d8f",
   "metadata": {},
   "outputs": [],
   "source": []
  }
 ],
 "metadata": {
  "kernelspec": {
   "display_name": "pyhrp",
   "language": "python",
   "name": "pyhrp"
  },
  "language_info": {
   "codemirror_mode": {
    "name": "ipython",
    "version": 3
   },
   "file_extension": ".py",
   "mimetype": "text/x-python",
   "name": "python",
   "nbconvert_exporter": "python",
   "pygments_lexer": "ipython3",
   "version": "3.10.6"
  }
 },
 "nbformat": 4,
 "nbformat_minor": 5
}
